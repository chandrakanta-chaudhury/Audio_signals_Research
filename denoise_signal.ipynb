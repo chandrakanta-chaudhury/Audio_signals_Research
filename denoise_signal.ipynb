{
  "nbformat": 4,
  "nbformat_minor": 0,
  "metadata": {
    "colab": {
      "name": "denoise_signal.ipynb",
      "provenance": [],
      "collapsed_sections": [],
      "mount_file_id": "1G5CcVrrokmL49eT1Se-4UpmHXbpiy2nE",
      "authorship_tag": "ABX9TyN7d4geEBdVfK0Sa8wxtrC8",
      "include_colab_link": true
    },
    "kernelspec": {
      "name": "python3",
      "display_name": "Python 3"
    }
  },
  "cells": [
    {
      "cell_type": "markdown",
      "metadata": {
        "id": "view-in-github",
        "colab_type": "text"
      },
      "source": [
        "<a href=\"https://colab.research.google.com/github/chandrakanta-chaudhury/Audio_signals_Research/blob/master/denoise_signal.ipynb\" target=\"_parent\"><img src=\"https://colab.research.google.com/assets/colab-badge.svg\" alt=\"Open In Colab\"/></a>"
      ]
    },
    {
      "cell_type": "code",
      "metadata": {
        "id": "hw1wx8koYAnr",
        "colab_type": "code",
        "colab": {}
      },
      "source": [
        "from scipy.io import wavfile\n",
        "import scipy.io\n",
        "from glob import glob\n",
        "import numpy as np\n",
        "import matplotlib.pyplot as plt"
      ],
      "execution_count": 71,
      "outputs": []
    },
    {
      "cell_type": "code",
      "metadata": {
        "id": "ZxEBgOrkZYab",
        "colab_type": "code",
        "colab": {
          "base_uri": "https://localhost:8080/",
          "height": 34
        },
        "outputId": "b9f0f6a0-26bb-4830-eadf-77050dc4baa9"
      },
      "source": [
        "sr,x = wavfile.read(\"/content/drive/My Drive/amicorpus/ES2008a/audio/ES2008a.Array1-05.wav\")\n",
        "plt.figure(figsize=(14, 5))\n",
        "duration = len(x)/sr\n",
        "time = np.arange(0,duration,1/sr)"
      ],
      "execution_count": 77,
      "outputs": [
        {
          "output_type": "display_data",
          "data": {
            "text/plain": [
              "<Figure size 1008x360 with 0 Axes>"
            ]
          },
          "metadata": {
            "tags": []
          }
        }
      ]
    },
    {
      "cell_type": "code",
      "metadata": {
        "id": "cMYxukemaLFK",
        "colab_type": "code",
        "colab": {
          "base_uri": "https://localhost:8080/",
          "height": 295
        },
        "outputId": "9dea4d13-fb0e-4bff-def0-73ff2c20fee0"
      },
      "source": [
        "\n",
        "import matplotlib.pyplot as plt\n",
        "import numpy as np\n",
        "plt.plot(time,x)\n",
        "plt.xlabel('Time [s]')\n",
        "plt.ylabel('Amplitude')\n",
        "plt.title('ES2008a.Array1-01.wav')\n",
        "plt.show()"
      ],
      "execution_count": 4,
      "outputs": [
        {
          "output_type": "display_data",
          "data": {
            "image/png": "[encoded data removed]",
            "text/plain": [
              "<Figure size 432x288 with 1 Axes>"
            ]
          },
          "metadata": {
            "tags": [],
            "needs_background": "light"
          }
        }
      ]
    },
    {
      "cell_type": "code",
      "metadata": {
        "id": "hEwdzcCpalEb",
        "colab_type": "code",
        "colab": {
          "base_uri": "https://localhost:8080/",
          "height": 34
        },
        "outputId": "7360d23f-f82f-4bb2-afbc-ea603cf809c9"
      },
      "source": [
        "from tensorflow.keras.models import *\n",
        "from tensorflow.keras.layers import *\n",
        "from tensorflow.keras.optimizers import *\n",
        "from tensorflow.keras.callbacks import ModelCheckpoint, LearningRateScheduler\n",
        "from tensorflow.keras import backend \n",
        "import tensorflow as tf\n",
        "print(tf.__version__)"
      ],
      "execution_count": 5,
      "outputs": [
        {
          "output_type": "stream",
          "text": [
            "2.2.0\n"
          ],
          "name": "stdout"
        }
      ]
    },
    {
      "cell_type": "code",
      "metadata": {
        "id": "mcNtDmn_axGe",
        "colab_type": "code",
        "colab": {}
      },
      "source": [
        "def get_white_noise(signal,SNR) :\n",
        "    #RMS value of signal\n",
        "    RMS_s=math.sqrt(np.mean(signal**2))\n",
        "    #RMS values of noise\n",
        "    RMS_n=math.sqrt(RMS_s**2/(pow(10,SNR/20)))\n",
        "    #Additive white gausian noise. Thereore mean=0\n",
        "    #Because sample length is large (typically > 40000)\n",
        "    #we can use the population formula for standard daviation.\n",
        "    #because mean=0 STD=RMS\n",
        "    STD_n=RMS_n\n",
        "    noise=np.random.normal(0, STD_n, signal.shape[0])\n",
        "    return noise"
      ],
      "execution_count": 78,
      "outputs": []
    },
    {
      "cell_type": "code",
      "metadata": {
        "id": "ls85mnf9axkZ",
        "colab_type": "code",
        "colab": {}
      },
      "source": [
        "import math\n",
        "signal=np.interp(x, (x.min(), x.max()), (-1, 1))\n",
        "noise=get_white_noise(signal,SNR=10)"
      ],
      "execution_count": 79,
      "outputs": []
    },
    {
      "cell_type": "code",
      "metadata": {
        "id": "GnjneinYa56W",
        "colab_type": "code",
        "colab": {
          "base_uri": "https://localhost:8080/",
          "height": 295
        },
        "outputId": "6ae1eba0-2470-401b-cc7c-39e13b1e320b"
      },
      "source": [
        "#from glob import glob\n",
        "X = []\n",
        "pad = lambda a, i: a[0: i] if a.shape[0] > i else np.hstack((a, np.zeros(i - a.shape[0])))\n",
        "import matplotlib.pyplot as plt\n",
        "#for fname in glob(\"/content/drive/My Drive/amicorpus/ES2008a/audio/ES2008a.Array1-0*.wav\"):\n",
        "sr,x = wavfile.read(\"/content/drive/My Drive/amicorpus/ES2008a/audio/ES2008a.Array1-05.wav\")\n",
        "signal=np.interp(x, (x.min(), x.max()), (-1, 1))\n",
        "noise=get_white_noise(signal,SNR=10)\n",
        "signal_noise=signal+noise\n",
        "padded = pad(signal_noise, 4096)\n",
        "X.append(padded)\n",
        "fig, ax = plt.subplots(figsize=(10,4))\n",
        "ax.plot(signal_noise)\n",
        "  #plt.plot(signal_noise)"
      ],
      "execution_count": 95,
      "outputs": [
        {
          "output_type": "execute_result",
          "data": {
            "text/plain": [
              "[<matplotlib.lines.Line2D at 0x7efc2a501710>]"
            ]
          },
          "metadata": {
            "tags": []
          },
          "execution_count": 95
        },
        {
          "output_type": "display_data",
          "data": {
            "image/png": "[encoded data removed]",
            "text/plain": [
              "<Figure size 720x288 with 1 Axes>"
            ]
          },
          "metadata": {
            "tags": [],
            "needs_background": "light"
          }
        }
      ]
    },
    {
      "cell_type": "code",
      "metadata": {
        "id": "uzY1F2qxbY2S",
        "colab_type": "code",
        "colab": {}
      },
      "source": [
        "X=np.vstack(X)"
      ],
      "execution_count": 96,
      "outputs": []
    },
    {
      "cell_type": "code",
      "metadata": {
        "id": "zeb9nJXZbhsZ",
        "colab_type": "code",
        "colab": {
          "base_uri": "https://localhost:8080/",
          "height": 34
        },
        "outputId": "318d6598-6550-4eb9-debf-5746dfea4ea6"
      },
      "source": [
        "X.shape"
      ],
      "execution_count": 97,
      "outputs": [
        {
          "output_type": "execute_result",
          "data": {
            "text/plain": [
              "(1, 4096)"
            ]
          },
          "metadata": {
            "tags": []
          },
          "execution_count": 97
        }
      ]
    },
    {
      "cell_type": "code",
      "metadata": {
        "id": "an2JdgHBkCYP",
        "colab_type": "code",
        "colab": {}
      },
      "source": [
        "from tensorflow.keras.models import Model\n",
        "from tensorflow.keras.layers import Input, Conv2D, LeakyReLU, MaxPooling2D, Dropout, concatenate, UpSampling2D\n",
        "from tensorflow.keras.optimizers import Adam\n",
        "from tensorflow.keras import backend\n",
        "import tensorflow as tf"
      ],
      "execution_count": 93,
      "outputs": []
    },
    {
      "cell_type": "code",
      "metadata": {
        "id": "rfDjFVj_IuVH",
        "colab_type": "code",
        "colab": {}
      },
      "source": [
        "X_check = tf.reshape(X, [64,64,1])"
      ],
      "execution_count": 98,
      "outputs": []
    },
    {
      "cell_type": "code",
      "metadata": {
        "id": "HYBDbfEBIzpP",
        "colab_type": "code",
        "colab": {
          "base_uri": "https://localhost:8080/",
          "height": 34
        },
        "outputId": "23bce11f-1b04-47cd-dda6-b895e92fb667"
      },
      "source": [
        "X_check.shape"
      ],
      "execution_count": 99,
      "outputs": [
        {
          "output_type": "execute_result",
          "data": {
            "text/plain": [
              "TensorShape([64, 64, 1])"
            ]
          },
          "metadata": {
            "tags": []
          },
          "execution_count": 99
        }
      ]
    },
    {
      "cell_type": "code",
      "metadata": {
        "id": "cxpd8esJjw4M",
        "colab_type": "code",
        "colab": {}
      },
      "source": [
        "size_filter_in = 16\n",
        "#normal initialization of weights\n",
        "kernel_init = 'he_normal'\n",
        "#To apply leaky relu after the conv layer \n",
        "activation_layer = None"
      ],
      "execution_count": 13,
      "outputs": []
    },
    {
      "cell_type": "code",
      "metadata": {
        "id": "UBTDL0rDky4r",
        "colab_type": "code",
        "colab": {
          "base_uri": "https://localhost:8080/",
          "height": 34
        },
        "outputId": "0f7e4846-59fa-49dc-c694-bf4a8f6874c8"
      },
      "source": [
        "X.shape"
      ],
      "execution_count": 40,
      "outputs": [
        {
          "output_type": "execute_result",
          "data": {
            "text/plain": [
              "(1, 3000)"
            ]
          },
          "metadata": {
            "tags": []
          },
          "execution_count": 40
        }
      ]
    },
    {
      "cell_type": "code",
      "metadata": {
        "id": "GAN5KXd_mzv-",
        "colab_type": "code",
        "colab": {
          "base_uri": "https://localhost:8080/",
          "height": 34
        },
        "outputId": "b77d0431-03ef-461a-8b0c-7535fee23658"
      },
      "source": [
        "print(sr)"
      ],
      "execution_count": 21,
      "outputs": [
        {
          "output_type": "stream",
          "text": [
            "16000\n"
          ],
          "name": "stdout"
        }
      ]
    },
    {
      "cell_type": "code",
      "metadata": {
        "id": "xgWUxrlFoCqw",
        "colab_type": "code",
        "colab": {}
      },
      "source": [
        "input_size = (128,128,1)"
      ],
      "execution_count": 22,
      "outputs": []
    },
    {
      "cell_type": "code",
      "metadata": {
        "id": "0oQ_3icwojqp",
        "colab_type": "code",
        "colab": {}
      },
      "source": [
        "X_in=X.reshape(-1,1)"
      ],
      "execution_count": 24,
      "outputs": []
    },
    {
      "cell_type": "code",
      "metadata": {
        "id": "p0Y_fjgZooZn",
        "colab_type": "code",
        "colab": {
          "base_uri": "https://localhost:8080/",
          "height": 34
        },
        "outputId": "caf1618d-cc41-404d-c86d-dbcae81adaec"
      },
      "source": [
        "X_in.shape"
      ],
      "execution_count": 26,
      "outputs": [
        {
          "output_type": "execute_result",
          "data": {
            "text/plain": [
              "(3000, 1)"
            ]
          },
          "metadata": {
            "tags": []
          },
          "execution_count": 26
        }
      ]
    },
    {
      "cell_type": "code",
      "metadata": {
        "id": "fg80xo4htJz1",
        "colab_type": "code",
        "colab": {}
      },
      "source": [
        "fname = \"/content/drive/My Drive/amicorpus/ES2008a/audio/ES2008a.Array1-02.wav\"\n",
        "import contextlib\n",
        "with contextlib.closing(wave.open(fname,'r')) as f:\n",
        "  frames = f.getnframes()\n",
        "  rate = f.getframerate()\n",
        "  width=f.getsampwidth()\n",
        "  duration = frames / float(rate)"
      ],
      "execution_count": 45,
      "outputs": []
    },
    {
      "cell_type": "code",
      "metadata": {
        "id": "Vyg9DgkVuOCH",
        "colab_type": "code",
        "colab": {
          "base_uri": "https://localhost:8080/",
          "height": 34
        },
        "outputId": "84d19e0e-0c42-4ca6-adb1-ef42e2d06794"
      },
      "source": [
        "print(frames,rate,duration,width)"
      ],
      "execution_count": 46,
      "outputs": [
        {
          "output_type": "stream",
          "text": [
            "16693760 16000 1043.36 2\n"
          ],
          "name": "stdout"
        }
      ]
    },
    {
      "cell_type": "code",
      "metadata": {
        "id": "XiUaRsSVuj7O",
        "colab_type": "code",
        "colab": {}
      },
      "source": [
        "nchannels=3\n",
        "framerate=rate\n",
        "nframes=frames\n",
        "sampwidth=width\n",
        "comptype = \"NONE\"\n",
        "compname = \"not compressed\"\n"
      ],
      "execution_count": 50,
      "outputs": []
    },
    {
      "cell_type": "code",
      "metadata": {
        "id": "04_11z8Tuhoj",
        "colab_type": "code",
        "colab": {
          "base_uri": "https://localhost:8080/",
          "height": 170
        },
        "outputId": "b1514ecb-eef9-4168-d281-33246f3198fb"
      },
      "source": [
        "#not needed \n",
        "wav_file = wave.open(fname, 'w')\n",
        "wav_file.setparams(\n",
        "        (nchannels,sampwidth,framerate,nframes,comptype,compname))\n"
      ],
      "execution_count": 51,
      "outputs": [
        {
          "output_type": "stream",
          "text": [
            "Exception ignored in: <bound method Wave_write.__del__ of <wave.Wave_write object at 0x7efc2ac57208>>\n",
            "Traceback (most recent call last):\n",
            "  File \"/usr/lib/python3.6/wave.py\", line 316, in __del__\n",
            "    self.close()\n",
            "  File \"/usr/lib/python3.6/wave.py\", line 434, in close\n",
            "    self._ensure_header_written(0)\n",
            "  File \"/usr/lib/python3.6/wave.py\", line 452, in _ensure_header_written\n",
            "    raise Error('# channels not specified')\n",
            "wave.Error: # channels not specified\n"
          ],
          "name": "stderr"
        }
      ]
    },
    {
      "cell_type": "code",
      "metadata": {
        "id": "T7MQbBMevA7r",
        "colab_type": "code",
        "colab": {}
      },
      "source": [
        "wav_file = wave.open(fname, 'w')\n",
        "wav_file.setparams(\n",
        "        (nchannels,framerate, nframes))\n",
        "    for values in data:\n",
        "        for v in values:\n",
        "            wav_file.writeframes(struct.pack('h', int(v * amp / 2)))"
      ],
      "execution_count": null,
      "outputs": []
    },
    {
      "cell_type": "code",
      "metadata": {
        "id": "j2wN0RXMj7BD",
        "colab_type": "code",
        "colab": {}
      },
      "source": [
        "input_size = (64,64,1)\n",
        "size_filter_in = 16\n",
        "#normal initialization of weights\n",
        "kernel_init = 'he_normal'\n",
        "#To apply leaky relu after the conv layer \n",
        "activation_layer = None\n",
        "inputs = Input(input_size)\n",
        "conv1 = Conv2D(size_filter_in, 3, activation = activation_layer, padding = 'same', kernel_initializer = kernel_init)(inputs)\n",
        "conv1 = LeakyReLU()(conv1)\n",
        "conv1 = Conv2D(size_filter_in, 3, activation = activation_layer, padding = 'same', kernel_initializer = kernel_init)(conv1)\n",
        "conv1 = LeakyReLU()(conv1)\n",
        "pool1 = MaxPooling2D(pool_size=(2, 2))(conv1)\n",
        "conv2 = Conv2D(2, 3, activation = activation_layer, padding = 'same', kernel_initializer = kernel_init)(conv1)\n",
        "conv2 = LeakyReLU()(conv2)\n",
        "conv3 = Conv2D(1, 1, activation = 'tanh')(conv2)\n",
        "model = Model(inputs,conv3)\n"
      ],
      "execution_count": 100,
      "outputs": []
    },
    {
      "cell_type": "code",
      "metadata": {
        "id": "m7fOb-MJlB9R",
        "colab_type": "code",
        "colab": {}
      },
      "source": [
        "model.compile(optimizer = 'adam', loss = tf.keras.losses.Huber(), metrics = ['mae'])"
      ],
      "execution_count": 101,
      "outputs": []
    },
    {
      "cell_type": "code",
      "metadata": {
        "id": "U7yEFUJupKas",
        "colab_type": "code",
        "colab": {
          "base_uri": "https://localhost:8080/",
          "height": 411
        },
        "outputId": "e3a8d8d4-c0f6-447b-a379-c82b29dbbb41"
      },
      "source": [
        "model.fit(X_check,X_check,\n",
        "                epochs=10,\n",
        "                batch_size=1,\n",
        "                shuffle=True,\n",
        "                validation_data=(X_check,X_check))"
      ],
      "execution_count": 103,
      "outputs": [
        {
          "output_type": "stream",
          "text": [
            "Epoch 1/10\n",
            "35/64 [===============>..............] - ETA: 0s - loss: 1.3004e-05 - mae: 0.0034WARNING:tensorflow:Model was constructed with shape (None, 64, 64, 1) for input Tensor(\"input_2:0\", shape=(None, 64, 64, 1), dtype=float32), but it was called on an input with incompatible shape (1, 64, 1, 1).\n",
            "64/64 [==============================] - 0s 5ms/step - loss: 1.0656e-05 - mae: 0.0030 - val_loss: 7.4762e-06 - val_mae: 0.0024\n",
            "Epoch 2/10\n",
            "64/64 [==============================] - 0s 3ms/step - loss: 6.1585e-06 - mae: 0.0021 - val_loss: 4.8789e-06 - val_mae: 0.0018\n",
            "Epoch 3/10\n",
            "64/64 [==============================] - 0s 3ms/step - loss: 4.3079e-06 - mae: 0.0017 - val_loss: 3.7083e-06 - val_mae: 0.0015\n",
            "Epoch 4/10\n",
            "64/64 [==============================] - 0s 3ms/step - loss: 3.3606e-06 - mae: 0.0015 - val_loss: 3.0207e-06 - val_mae: 0.0014\n",
            "Epoch 5/10\n",
            "64/64 [==============================] - 0s 3ms/step - loss: 2.7872e-06 - mae: 0.0013 - val_loss: 2.3938e-06 - val_mae: 0.0012\n",
            "Epoch 6/10\n",
            "64/64 [==============================] - 0s 3ms/step - loss: 2.2211e-06 - mae: 0.0012 - val_loss: 2.0221e-06 - val_mae: 0.0011\n",
            "Epoch 7/10\n",
            "64/64 [==============================] - 0s 3ms/step - loss: 1.8670e-06 - mae: 0.0011 - val_loss: 1.6599e-06 - val_mae: 9.9253e-04\n",
            "Epoch 8/10\n",
            "64/64 [==============================] - 0s 3ms/step - loss: 1.6060e-06 - mae: 9.9518e-04 - val_loss: 1.5117e-06 - val_mae: 0.0010\n",
            "Epoch 9/10\n",
            "64/64 [==============================] - 0s 3ms/step - loss: 1.3960e-06 - mae: 9.3441e-04 - val_loss: 1.2335e-06 - val_mae: 8.7721e-04\n",
            "Epoch 10/10\n",
            "64/64 [==============================] - 0s 3ms/step - loss: 1.2828e-06 - mae: 9.3166e-04 - val_loss: 1.1208e-06 - val_mae: 8.0978e-04\n"
          ],
          "name": "stdout"
        },
        {
          "output_type": "execute_result",
          "data": {
            "text/plain": [
              "<tensorflow.python.keras.callbacks.History at 0x7efc27602240>"
            ]
          },
          "metadata": {
            "tags": []
          },
          "execution_count": 103
        }
      ]
    },
    {
      "cell_type": "code",
      "metadata": {
        "id": "MK-UXTilqDJn",
        "colab_type": "code",
        "colab": {
          "base_uri": "https://localhost:8080/",
          "height": 54
        },
        "outputId": "17ea45c9-f64d-4e09-d006-24e854695384"
      },
      "source": [
        "y=model.predict(X_check)"
      ],
      "execution_count": 104,
      "outputs": [
        {
          "output_type": "stream",
          "text": [
            "WARNING:tensorflow:Model was constructed with shape (None, 64, 64, 1) for input Tensor(\"input_2:0\", shape=(None, 64, 64, 1), dtype=float32), but it was called on an input with incompatible shape (32, 64, 1, 1).\n"
          ],
          "name": "stdout"
        }
      ]
    },
    {
      "cell_type": "code",
      "metadata": {
        "id": "imXR3SM_QhMl",
        "colab_type": "code",
        "colab": {
          "base_uri": "https://localhost:8080/",
          "height": 34
        },
        "outputId": "b88e58cf-01ad-425c-b688-f964ce2e59ff"
      },
      "source": [
        "y.shape"
      ],
      "execution_count": 105,
      "outputs": [
        {
          "output_type": "execute_result",
          "data": {
            "text/plain": [
              "(64, 64, 1, 1)"
            ]
          },
          "metadata": {
            "tags": []
          },
          "execution_count": 105
        }
      ]
    },
    {
      "cell_type": "code",
      "metadata": {
        "id": "Ioq4hDL3QyU9",
        "colab_type": "code",
        "colab": {}
      },
      "source": [
        "y1=tf.reshape(4096,1)"
      ],
      "execution_count": 106,
      "outputs": []
    },
    {
      "cell_type": "code",
      "metadata": {
        "id": "WaN4t4w7RJoI",
        "colab_type": "code",
        "colab": {}
      },
      "source": [
        "y1.shape\n",
        "y2=y1.numpy()"
      ],
      "execution_count": 108,
      "outputs": []
    },
    {
      "cell_type": "code",
      "metadata": {
        "id": "MSwRY5uERLlQ",
        "colab_type": "code",
        "colab": {}
      },
      "source": [
        "from scipy.io.wavfile import write\n",
        "write(\"example.wav\", sr, y2)"
      ],
      "execution_count": 109,
      "outputs": []
    },
    {
      "cell_type": "code",
      "metadata": {
        "id": "xi8hJGRIR8Vz",
        "colab_type": "code",
        "colab": {
          "base_uri": "https://localhost:8080/",
          "height": 295
        },
        "outputId": "b960ebe8-eec1-40b6-ee06-82b29f7d6ed6"
      },
      "source": [
        "import matplotlib.pyplot as plt\n",
        "import numpy as np\n",
        "plt.plot(time,x)\n",
        "plt.xlabel('Time [s]')\n",
        "plt.ylabel('Amplitude')\n",
        "plt.title('/content/example.wav')\n",
        "plt.show()"
      ],
      "execution_count": 110,
      "outputs": [
        {
          "output_type": "display_data",
          "data": {
            "image/png": "[encoded data removed]",
            "text/plain": [
              "<Figure size 432x288 with 1 Axes>"
            ]
          },
          "metadata": {
            "tags": [],
            "needs_background": "light"
          }
        }
      ]
    },
    {
      "cell_type": "code",
      "metadata": {
        "id": "BN6ASYWzSQ2F",
        "colab_type": "code",
        "colab": {}
      },
      "source": [
        ""
      ],
      "execution_count": null,
      "outputs": []
    }
  ]
}