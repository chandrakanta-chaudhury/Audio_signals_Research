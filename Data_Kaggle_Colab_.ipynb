{
  "nbformat": 4,
  "nbformat_minor": 0,
  "metadata": {
    "colab": {
      "name": "Data_Kaggle_Colab .ipynb",
      "provenance": [],
      "collapsed_sections": [],
      "authorship_tag": "ABX9TyNZ/Tl7BOGio65VrUrsT4JS",
      "include_colab_link": true
    },
    "kernelspec": {
      "name": "python3",
      "display_name": "Python 3"
    }
  },
  "cells": [
    {
      "cell_type": "markdown",
      "metadata": {
        "id": "view-in-github",
        "colab_type": "text"
      },
      "source": [
        "<a href=\"https://colab.research.google.com/github/chandrakanta-chaudhury/Misc/blob/master/Data_Kaggle_Colab_.ipynb\" target=\"_parent\"><img src=\"https://colab.research.google.com/assets/colab-badge.svg\" alt=\"Open In Colab\"/></a>"
      ]
    },
    {
      "cell_type": "code",
      "metadata": {
        "id": "T3wQv2GsNQ6y",
        "colab_type": "code",
        "colab": {}
      },
      "source": [
        "from google.colab import files"
      ],
      "execution_count": 0,
      "outputs": []
    },
    {
      "cell_type": "code",
      "metadata": {
        "id": "znou8Cu5NWm0",
        "colab_type": "code",
        "colab": {}
      },
      "source": [
        "!pip install -q kaggle"
      ],
      "execution_count": 0,
      "outputs": []
    },
    {
      "cell_type": "code",
      "metadata": {
        "id": "vluxM6qINa-S",
        "colab_type": "code",
        "colab": {}
      },
      "source": [
        "import os "
      ],
      "execution_count": 0,
      "outputs": []
    },
    {
      "cell_type": "code",
      "metadata": {
        "id": "-qEVfM6-WcuN",
        "colab_type": "code",
        "colab": {
          "resources": {
            "http://localhost:8080/nbextensions/google.colab/files.js": {
              "data": "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",
              "ok": true,
              "headers": [
                [
                  "content-type",
                  "application/javascript"
                ]
              ],
              "status": 200,
              "status_text": "OK"
            }
          },
          "base_uri": "https://localhost:8080/",
          "height": 41
        },
        "outputId": "8eb7d985-5392-4056-8e31-feb2b92725c9"
      },
      "source": [
        "uploaded = files.upload()"
      ],
      "execution_count": 4,
      "outputs": [
        {
          "output_type": "display_data",
          "data": {
            "text/html": [
              "\n",
              "     <input type=\"file\" id=\"files-0d89067b-cbf7-4b3e-a497-19681ea10ba0\" name=\"files[]\" multiple disabled />\n",
              "     <output id=\"result-0d89067b-cbf7-4b3e-a497-19681ea10ba0\">\n",
              "      Upload widget is only available when the cell has been executed in the\n",
              "      current browser session. Please rerun this cell to enable.\n",
              "      </output>\n",
              "      <script src=\"/nbextensions/google.colab/files.js\"></script> "
            ],
            "text/plain": [
              "<IPython.core.display.HTML object>"
            ]
          },
          "metadata": {
            "tags": []
          }
        }
      ]
    },
    {
      "cell_type": "code",
      "metadata": {
        "id": "nA5zomk7ZRfc",
        "colab_type": "code",
        "colab": {
          "base_uri": "https://localhost:8080/",
          "height": 156
        },
        "outputId": "3c78e1ed-ca45-42bf-ad10-2b26c8b197f9"
      },
      "source": [
        "!kaggle competitions download -c march-madness-analytics-2020"
      ],
      "execution_count": 5,
      "outputs": [
        {
          "output_type": "stream",
          "text": [
            "Traceback (most recent call last):\n",
            "  File \"/usr/local/bin/kaggle\", line 5, in <module>\n",
            "    from kaggle.cli import main\n",
            "  File \"/usr/local/lib/python2.7/dist-packages/kaggle/__init__.py\", line 23, in <module>\n",
            "    api.authenticate()\n",
            "  File \"/usr/local/lib/python2.7/dist-packages/kaggle/api/kaggle_api_extended.py\", line 146, in authenticate\n",
            "    self.config_file, self.config_dir))\n",
            "IOError: Could not find kaggle.json. Make sure it's located in /root/.kaggle. Or use the environment method.\n"
          ],
          "name": "stdout"
        }
      ]
    },
    {
      "cell_type": "code",
      "metadata": {
        "id": "SJ0FUuoXZj3S",
        "colab_type": "code",
        "colab": {
          "base_uri": "https://localhost:8080/",
          "height": 52
        },
        "outputId": "2de012c8-cfe2-42fe-d780-4aa1bc7b01bc"
      },
      "source": [
        "%cd  .kaggle"
      ],
      "execution_count": 6,
      "outputs": [
        {
          "output_type": "stream",
          "text": [
            "[Errno 2] No such file or directory: '.kaggle'\n",
            "/content\n"
          ],
          "name": "stdout"
        }
      ]
    },
    {
      "cell_type": "code",
      "metadata": {
        "id": "HQQkAb9naTFm",
        "colab_type": "code",
        "colab": {}
      },
      "source": [
        "!mkdir .kaggle"
      ],
      "execution_count": 0,
      "outputs": []
    },
    {
      "cell_type": "code",
      "metadata": {
        "id": "QkCoFHizaqW8",
        "colab_type": "code",
        "colab": {
          "base_uri": "https://localhost:8080/",
          "height": 35
        },
        "outputId": "eea6cd02-3d5c-42ec-c41b-c3409b55938d"
      },
      "source": [
        "!rm .kaggle"
      ],
      "execution_count": 8,
      "outputs": [
        {
          "output_type": "stream",
          "text": [
            "rm: cannot remove '.kaggle': Is a directory\n"
          ],
          "name": "stdout"
        }
      ]
    },
    {
      "cell_type": "code",
      "metadata": {
        "id": "0N6Q7QDna4Tk",
        "colab_type": "code",
        "colab": {
          "base_uri": "https://localhost:8080/",
          "height": 35
        },
        "outputId": "f0e0730c-546d-4ccb-c487-baa141990336"
      },
      "source": [
        "!mkdir ~/.kaggle"
      ],
      "execution_count": 9,
      "outputs": [
        {
          "output_type": "stream",
          "text": [
            "mkdir: cannot create directory ‘/root/.kaggle’: File exists\n"
          ],
          "name": "stdout"
        }
      ]
    },
    {
      "cell_type": "code",
      "metadata": {
        "id": "As_WtEqCbI3u",
        "colab_type": "code",
        "colab": {}
      },
      "source": [
        "!touch ~/.kaggle/kaggle.json"
      ],
      "execution_count": 0,
      "outputs": []
    },
    {
      "cell_type": "code",
      "metadata": {
        "id": "jfMBRsUKbJnl",
        "colab_type": "code",
        "colab": {
          "base_uri": "https://localhost:8080/",
          "height": 208
        },
        "outputId": "57996d4a-71c7-48e4-b674-c771174c1fad"
      },
      "source": [
        "!kaggle competitions download -c march-madness-analytics-2020"
      ],
      "execution_count": 11,
      "outputs": [
        {
          "output_type": "stream",
          "text": [
            "Warning: Your Kaggle API key is readable by other users on this system! To fix this, you can run 'chmod 600 /root/.kaggle/kaggle.json'\n",
            "Traceback (most recent call last):\n",
            "  File \"/usr/local/bin/kaggle\", line 5, in <module>\n",
            "    from kaggle.cli import main\n",
            "  File \"/usr/local/lib/python2.7/dist-packages/kaggle/__init__.py\", line 23, in <module>\n",
            "    api.authenticate()\n",
            "  File \"/usr/local/lib/python2.7/dist-packages/kaggle/api/kaggle_api_extended.py\", line 149, in authenticate\n",
            "    self._load_config(config_data)\n",
            "  File \"/usr/local/lib/python2.7/dist-packages/kaggle/api/kaggle_api_extended.py\", line 190, in _load_config\n",
            "    raise ValueError('Error: Missing %s in configuration.' % item)\n",
            "ValueError: Error: Missing username in configuration.\n"
          ],
          "name": "stdout"
        }
      ]
    },
    {
      "cell_type": "code",
      "metadata": {
        "id": "U74BcIE7bOia",
        "colab_type": "code",
        "colab": {}
      },
      "source": [
        "api_token = {\"username\":\"chandrakanta\",\"key\":\"******get this api key from kaggle  account  api-token\"}\n",
        "\n",
        "import json\n",
        "\n",
        "with open('/root/.kaggle/kaggle.json', 'w') as file:\n",
        "    json.dump(api_token, file)\n",
        "\n",
        "!chmod 600 ~/.kaggle/kaggle.json"
      ],
      "execution_count": 0,
      "outputs": []
    },
    {
      "cell_type": "code",
      "metadata": {
        "id": "J8TE9BvBdwAz",
        "colab_type": "code",
        "colab": {
          "base_uri": "https://localhost:8080/",
          "height": 1000
        },
        "outputId": "cd393ea6-3ce4-482d-8360-6956039e1225"
      },
      "source": [
        "!kaggle competitions download -c march-madness-analytics-2020"
      ],
      "execution_count": 15,
      "outputs": [
        {
          "output_type": "stream",
          "text": [
            "Warning: Looks like you're using an outdated API Version, please consider updating (server 1.5.6 / client 1.5.4)\n",
            "Downloading MNCAATourneySlots.csv to /content\n",
            "  0% 0.00/44.0k [00:00<?, ?B/s]\n",
            "100% 44.0k/44.0k [00:00<00:00, 18.6MB/s]\n",
            "Downloading MNCAATourneySeeds.csv to /content\n",
            "  0% 0.00/33.6k [00:00<?, ?B/s]\n",
            "100% 33.6k/33.6k [00:00<00:00, 33.8MB/s]\n",
            "Downloading MRegularSeasonCompactResults.csv.zip to /content\n",
            "  0% 0.00/1.14M [00:00<?, ?B/s]\n",
            "100% 1.14M/1.14M [00:00<00:00, 72.9MB/s]\n",
            "Downloading MTeamCoaches.csv to /content\n",
            "  0% 0.00/331k [00:00<?, ?B/s]\n",
            "100% 331k/331k [00:00<00:00, 160MB/s]\n",
            "Downloading MTeamSpellings.csv to /content\n",
            "  0% 0.00/21.6k [00:00<?, ?B/s]\n",
            "100% 21.6k/21.6k [00:00<00:00, 18.8MB/s]\n",
            "Downloading MTeamConferences.csv to /content\n",
            "  0% 0.00/195k [00:00<?, ?B/s]\n",
            "100% 195k/195k [00:00<00:00, 64.1MB/s]\n",
            "Downloading MTeams.csv to /content\n",
            "  0% 0.00/9.45k [00:00<?, ?B/s]\n",
            "100% 9.45k/9.45k [00:00<00:00, 8.10MB/s]\n",
            "Downloading MSeasons.csv to /content\n",
            "  0% 0.00/1.57k [00:00<?, ?B/s]\n",
            "100% 1.57k/1.57k [00:00<00:00, 1.52MB/s]\n",
            "Downloading Conferences.csv to /content\n",
            "  0% 0.00/1.61k [00:00<?, ?B/s]\n",
            "100% 1.61k/1.61k [00:00<00:00, 1.52MB/s]\n",
            "Downloading MSecondaryTourneyTeams.csv to /content\n",
            "  0% 0.00/24.1k [00:00<?, ?B/s]\n",
            "100% 24.1k/24.1k [00:00<00:00, 20.7MB/s]\n",
            "Downloading MNCAATourneyDetailedResults.csv to /content\n",
            "  0% 0.00/109k [00:00<?, ?B/s]\n",
            "100% 109k/109k [00:00<00:00, 93.7MB/s]\n",
            "Downloading MRegularSeasonDetailedResults.csv.zip to /content\n",
            "  0% 0.00/2.78M [00:00<?, ?B/s]\n",
            "100% 2.78M/2.78M [00:00<00:00, 91.5MB/s]\n",
            "Downloading MConferenceTourneyGames.csv to /content\n",
            "  0% 0.00/133k [00:00<?, ?B/s]\n",
            "100% 133k/133k [00:00<00:00, 137MB/s]\n",
            "Downloading MGameCities.csv.zip to /content\n",
            "  0% 0.00/370k [00:00<?, ?B/s]\n",
            "100% 370k/370k [00:00<00:00, 114MB/s]\n",
            "Downloading MSecondaryTourneyCompactResults.csv to /content\n",
            "  0% 0.00/54.0k [00:00<?, ?B/s]\n",
            "100% 54.0k/54.0k [00:00<00:00, 48.7MB/s]\n",
            "Downloading Cities.csv to /content\n",
            "  0% 0.00/8.13k [00:00<?, ?B/s]\n",
            "100% 8.13k/8.13k [00:00<00:00, 7.98MB/s]\n",
            "Downloading MNCAATourneySeedRoundSlots.csv to /content\n",
            "  0% 0.00/14.4k [00:00<?, ?B/s]\n",
            "100% 14.4k/14.4k [00:00<00:00, 12.1MB/s]\n",
            "Downloading MNCAATourneyCompactResults.csv to /content\n",
            "  0% 0.00/66.1k [00:00<?, ?B/s]\n",
            "100% 66.1k/66.1k [00:00<00:00, 70.3MB/s]\n",
            "Downloading MMasseyOrdinals.csv.zip to /content\n",
            " 61% 9.00M/14.9M [00:00<00:00, 24.1MB/s]\n",
            "100% 14.9M/14.9M [00:00<00:00, 37.6MB/s]\n",
            "Downloading MEvents2017.csv.zip to /content\n",
            " 25% 5.00M/19.7M [00:00<00:01, 14.7MB/s]\n",
            "100% 19.7M/19.7M [00:00<00:00, 44.3MB/s]\n",
            "Downloading MEvents2019.csv.zip to /content\n",
            " 22% 5.00M/22.7M [00:00<00:01, 16.6MB/s]\n",
            "100% 22.7M/22.7M [00:00<00:00, 57.5MB/s]\n",
            "Downloading MEvents2016.csv.zip to /content\n",
            " 25% 5.00M/19.7M [00:00<00:01, 9.38MB/s]\n",
            "100% 19.7M/19.7M [00:00<00:00, 31.1MB/s]\n",
            "Downloading MPlayers.csv to /content\n",
            "  0% 0.00/329k [00:00<?, ?B/s]\n",
            "100% 329k/329k [00:00<00:00, 99.7MB/s]\n",
            "Downloading MEvents2015.csv.zip to /content\n",
            " 47% 9.00M/19.1M [00:00<00:00, 33.0MB/s]\n",
            "100% 19.1M/19.1M [00:00<00:00, 54.8MB/s]\n",
            "Downloading MEvents2018.csv.zip to /content\n",
            " 88% 17.0M/19.4M [00:00<00:00, 26.4MB/s]\n",
            "100% 19.4M/19.4M [00:00<00:00, 43.7MB/s]\n",
            "Downloading WSeasons.csv to /content\n",
            "  0% 0.00/1.17k [00:00<?, ?B/s]\n",
            "100% 1.17k/1.17k [00:00<00:00, 1.04MB/s]\n",
            "Conferences.csv: Skipping, found more recently modified local copy (use --force to force download)\n",
            "Cities.csv: Skipping, found more recently modified local copy (use --force to force download)\n",
            "Downloading WTeams.csv to /content\n",
            "  0% 0.00/5.82k [00:00<?, ?B/s]\n",
            "100% 5.82k/5.82k [00:00<00:00, 5.21MB/s]\n",
            "Downloading WNCAATourneySlots.csv to /content\n",
            "  0% 0.00/970 [00:00<?, ?B/s]\n",
            "100% 970/970 [00:00<00:00, 927kB/s]\n",
            "Downloading WRegularSeasonDetailedResults.csv.zip to /content\n",
            "  0% 0.00/1.64M [00:00<?, ?B/s]\n",
            "100% 1.64M/1.64M [00:00<00:00, 50.7MB/s]\n",
            "Downloading WNCAATourneyDetailedResults.csv to /content\n",
            "  0% 0.00/61.9k [00:00<?, ?B/s]\n",
            "100% 61.9k/61.9k [00:00<00:00, 50.0MB/s]\n",
            "Downloading WTeamSpellings.csv to /content\n",
            "  0% 0.00/21.5k [00:00<?, ?B/s]\n",
            "100% 21.5k/21.5k [00:00<00:00, 16.7MB/s]\n",
            "Downloading WTeamConferences.csv to /content\n",
            "  0% 0.00/130k [00:00<?, ?B/s]\n",
            "100% 130k/130k [00:00<00:00, 124MB/s]\n",
            "Downloading WRegularSeasonCompactResults.csv.zip to /content\n",
            "  0% 0.00/770k [00:00<?, ?B/s]\n",
            "100% 770k/770k [00:00<00:00, 109MB/s]\n",
            "Downloading WNCAATourneySeeds.csv to /content\n",
            "  0% 0.00/20.6k [00:00<?, ?B/s]\n",
            "100% 20.6k/20.6k [00:00<00:00, 19.8MB/s]\n",
            "Downloading WNCAATourneyCompactResults.csv to /content\n",
            "  0% 0.00/40.7k [00:00<?, ?B/s]\n",
            "100% 40.7k/40.7k [00:00<00:00, 34.9MB/s]\n",
            "Downloading WGameCities.csv.zip to /content\n",
            "  0% 0.00/351k [00:00<?, ?B/s]\n",
            "100% 351k/351k [00:00<00:00, 107MB/s]\n",
            "Downloading WEvents2015.csv.zip to /content\n",
            " 48% 9.00M/18.9M [00:00<00:00, 44.4MB/s]\n",
            "100% 18.9M/18.9M [00:00<00:00, 74.8MB/s]\n",
            "Downloading WPlayers.csv to /content\n",
            "  0% 0.00/290k [00:00<?, ?B/s]\n",
            "100% 290k/290k [00:00<00:00, 93.7MB/s]\n",
            "Downloading WEvents2017.csv.zip to /content\n",
            " 64% 12.0M/18.6M [00:00<00:00, 31.7MB/s]\n",
            "100% 18.6M/18.6M [00:00<00:00, 53.5MB/s]\n",
            "Downloading WEvents2016.csv.zip to /content\n",
            " 48% 9.00M/18.7M [00:00<00:00, 28.2MB/s]\n",
            "100% 18.7M/18.7M [00:00<00:00, 42.1MB/s]\n",
            "Downloading WEvents2019.csv.zip to /content\n",
            " 79% 17.0M/21.6M [00:00<00:00, 32.0MB/s]\n",
            "100% 21.6M/21.6M [00:00<00:00, 43.9MB/s]\n",
            "Downloading WEvents2018.csv.zip to /content\n",
            " 49% 9.00M/18.4M [00:00<00:00, 28.0MB/s]\n",
            "100% 18.4M/18.4M [00:00<00:00, 46.6MB/s]\n"
          ],
          "name": "stdout"
        }
      ]
    },
    {
      "cell_type": "code",
      "metadata": {
        "id": "hDo2133zd9gC",
        "colab_type": "code",
        "colab": {
          "base_uri": "https://localhost:8080/",
          "height": 399
        },
        "outputId": "f52e08c2-3af0-40fb-f1da-5ac284b19078"
      },
      "source": [
        "!ls"
      ],
      "execution_count": 16,
      "outputs": [
        {
          "output_type": "stream",
          "text": [
            "Cities.csv\t\t\t       MTeamConferences.csv\n",
            "Conferences.csv\t\t\t       MTeams.csv\n",
            "MConferenceTourneyGames.csv\t       MTeamSpellings.csv\n",
            "MEvents2015.csv.zip\t\t       sample_data\n",
            "MEvents2016.csv.zip\t\t       WEvents2015.csv.zip\n",
            "MEvents2017.csv.zip\t\t       WEvents2016.csv.zip\n",
            "MEvents2018.csv.zip\t\t       WEvents2017.csv.zip\n",
            "MEvents2019.csv.zip\t\t       WEvents2018.csv.zip\n",
            "MGameCities.csv.zip\t\t       WEvents2019.csv.zip\n",
            "MMasseyOrdinals.csv.zip\t\t       WGameCities.csv.zip\n",
            "MNCAATourneyCompactResults.csv\t       WNCAATourneyCompactResults.csv\n",
            "MNCAATourneyDetailedResults.csv        WNCAATourneyDetailedResults.csv\n",
            "MNCAATourneySeedRoundSlots.csv\t       WNCAATourneySeeds.csv\n",
            "MNCAATourneySeeds.csv\t\t       WNCAATourneySlots.csv\n",
            "MNCAATourneySlots.csv\t\t       WPlayers.csv\n",
            "MPlayers.csv\t\t\t       WRegularSeasonCompactResults.csv.zip\n",
            "MRegularSeasonCompactResults.csv.zip   WRegularSeasonDetailedResults.csv.zip\n",
            "MRegularSeasonDetailedResults.csv.zip  WSeasons.csv\n",
            "MSeasons.csv\t\t\t       WTeamConferences.csv\n",
            "MSecondaryTourneyCompactResults.csv    WTeams.csv\n",
            "MSecondaryTourneyTeams.csv\t       WTeamSpellings.csv\n",
            "MTeamCoaches.csv\n"
          ],
          "name": "stdout"
        }
      ]
    },
    {
      "cell_type": "code",
      "metadata": {
        "id": "aVYA-DGseB15",
        "colab_type": "code",
        "colab": {}
      },
      "source": [
        ""
      ],
      "execution_count": 0,
      "outputs": []
    }
  ]
}